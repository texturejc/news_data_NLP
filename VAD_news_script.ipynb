{
 "cells": [
  {
   "cell_type": "code",
   "execution_count": 1,
   "id": "7e7789f0",
   "metadata": {},
   "outputs": [],
   "source": [
    "import pandas as pd\n",
    "import seaborn as sns\n",
    "!pip install plotly\n",
    "import plotly.express as px\n",
    "import matplotlib.pyplot as plt"
   ]
  },
  {
   "cell_type": "markdown",
   "id": "95a39e94",
   "metadata": {},
   "source": [
    "## Word norms"
   ]
  },
  {
   "cell_type": "code",
   "execution_count": null,
   "id": "10a22fb6",
   "metadata": {},
   "outputs": [],
   "source": [
    "vad = pd.read_excel('vad.xlsx')  #VAD norms\n",
    "sm = pd.read_excel('sensorimotor.xlsx') #Sensorimotor norms"
   ]
  },
  {
   "cell_type": "markdown",
   "id": "b75abb20",
   "metadata": {},
   "source": [
    "## Five years of UK news headline data\n",
    "\n",
    "[Data source: Kaggle.com](https://www.kaggle.com/datasets/lazuri22/over-5-years-of-uk-news-headlines)"
   ]
  },
  {
   "cell_type": "code",
   "execution_count": null,
   "id": "1e7099e3",
   "metadata": {},
   "outputs": [],
   "source": [
    "\n",
    "news = pd.read_pickle('small_news_data.pkl')\n",
    "news_day = pd.read_pickle('porocessed_news_grouped_by_day.pkl')"
   ]
  },
  {
   "cell_type": "code",
   "execution_count": null,
   "id": "6001b84f",
   "metadata": {},
   "outputs": [],
   "source": [
    "\n",
    "\n",
    "news['source'] = news['source'].replace(['inews',\n",
    " 'daily_mail',\n",
    " 'express',\n",
    " 'guardian',\n",
    " 'evening_standard',\n",
    " 'independent'], ['iNews',\n",
    "  'Daily Mail',\n",
    "  'Express',\n",
    "  'Guardian',\n",
    "  'Evening Standard',\n",
    "  'Independent'])\n"
   ]
  },
  {
   "cell_type": "code",
   "execution_count": null,
   "id": "2f5d3140",
   "metadata": {},
   "outputs": [],
   "source": []
  }
 ],
 "metadata": {
  "kernelspec": {
   "display_name": "Python 3 (ipykernel)",
   "language": "python",
   "name": "python3"
  },
  "language_info": {
   "codemirror_mode": {
    "name": "ipython",
    "version": 3
   },
   "file_extension": ".py",
   "mimetype": "text/x-python",
   "name": "python",
   "nbconvert_exporter": "python",
   "pygments_lexer": "ipython3",
   "version": "3.9.13"
  }
 },
 "nbformat": 4,
 "nbformat_minor": 5
}
